{
 "cells": [
  {
   "cell_type": "code",
   "execution_count": 6,
   "metadata": {},
   "outputs": [
    {
     "name": "stdout",
     "output_type": "stream",
     "text": [
      "Header: ['Source Language', 'Target Language']\n",
      "First 5 rows:\n",
      "                                      Source Language  \\\n",
      "0  \"All citizens of the euro area will have to le...   \n",
      "1  \"One member, one vote\" and ad personam partici...   \n",
      "2  \"Price stability is defined as a year-on-year ...   \n",
      "3                               \"Representativeness\"   \n",
      "4  \"The partnership with the European Blind Union...   \n",
      "\n",
      "                                     Target Language  \n",
      "0  \"Alle burgers van de eurozone zullen met de ni...  \n",
      "1        \"Eén lid, één stem\" en ad personam-deelname  \n",
      "2  \"Prijsstabiliteit wordt gedefinieerd als een j...  \n",
      "3                               \"Representativiteit\"  \n",
      "4  \"Met de Europese Unie van Blinden (EUB), die z...  \n"
     ]
    }
   ],
   "source": [
    "import pandas as pd\n",
    "\n",
    "# Load the .txt files for both languages\n",
    "source_file = \"/Users/bramdewaal/Desktop/Uni/VSC/Software Engineering/Project/Task 2 /data.en.txt\"\n",
    "target_file = \"/Users/bramdewaal/Desktop/Uni/VSC/Software Engineering/Project/Task 2 /data.nl.txt\"\n",
    "\n",
    "# Read each file into a list of sentences\n",
    "with open(source_file, 'r', encoding='utf-8') as f:\n",
    "    source_sentences = f.readlines()\n",
    "\n",
    "with open(target_file, 'r', encoding='utf-8') as f:\n",
    "    target_sentences = f.readlines()\n",
    "\n",
    "# Strip whitespace\n",
    "source_sentences = [line.strip() for line in source_sentences]\n",
    "target_sentences = [line.strip() for line in target_sentences]\n",
    "\n",
    "# Ensure both lists are the same length by truncating the longer one\n",
    "min_length = min(len(source_sentences), len(target_sentences))\n",
    "source_sentences = source_sentences[:min_length]\n",
    "target_sentences = target_sentences[:min_length]\n",
    "\n",
    "# Create a DataFrame with both languages\n",
    "df = pd.DataFrame({\n",
    "    'Source Language': source_sentences,\n",
    "    'Target Language': target_sentences\n",
    "})\n",
    "\n",
    "# Display the header of the DataFrame\n",
    "print(\"Header:\", df.columns.tolist())\n",
    "\n",
    "# Display the first 5 rows of the DataFrame\n",
    "print(\"First 5 rows:\\n\", df.head())"
   ]
  },
  {
   "cell_type": "code",
   "execution_count": 7,
   "metadata": {},
   "outputs": [
    {
     "name": "stdout",
     "output_type": "stream",
     "text": [
      "Volume of Data - Number of Sentences: 3528196, Number of Languages: 2\n"
     ]
    }
   ],
   "source": [
    "# Check volume by displaying the number of rows and columns\n",
    "num_rows, num_columns = df.shape\n",
    "print(f\"Volume of Data - Number of Sentences: {num_rows}, Number of Languages: {num_columns}\")"
   ]
  },
  {
   "cell_type": "code",
   "execution_count": 8,
   "metadata": {},
   "outputs": [
    {
     "name": "stdout",
     "output_type": "stream",
     "text": [
      "Average difference in sentence length: -16.053998417321488 characters\n"
     ]
    }
   ],
   "source": [
    "# Check if both 'Source Language' and 'Target Language' columns exist\n",
    "if 'Source Language' in df.columns and 'Target Language' in df.columns:\n",
    "    # Calculate sentence lengths (number of characters or words)\n",
    "    df['source_length'] = df['Source Language'].apply(len)  # Using character length\n",
    "    df['target_length'] = df['Target Language'].apply(len)\n",
    "    \n",
    "    # Calculate the difference in length between source and target sentences\n",
    "    df['length_diff'] = df['source_length'] - df['target_length']\n",
    "    \n",
    "    # Calculate average difference in length\n",
    "    avg_length_diff = df['length_diff'].mean()\n",
    "    print(f\"Average difference in sentence length: {avg_length_diff} characters\")\n",
    "else:\n",
    "    print(\"Source or Target language column not found for analysis.\")"
   ]
  },
  {
   "cell_type": "code",
   "execution_count": 9,
   "metadata": {},
   "outputs": [
    {
     "name": "stdout",
     "output_type": "stream",
     "text": [
      "Variety of Data - Data Types of Features:\n",
      "Source Language    object\n",
      "Target Language    object\n",
      "source_length       int64\n",
      "target_length       int64\n",
      "length_diff         int64\n",
      "dtype: object\n",
      "Number of Categorical Features: 2, Number of Numerical Features: 3\n"
     ]
    }
   ],
   "source": [
    "# Check the data types of each column to analyze variety\n",
    "print(\"Variety of Data - Data Types of Features:\")\n",
    "print(df.dtypes)\n",
    "\n",
    "# Count categorical and numerical columns\n",
    "num_categorical = df.select_dtypes(include=['object']).shape[1]  # Text-based data\n",
    "num_numerical = df.select_dtypes(include=['int64', 'float64']).shape[1]  # Numerical data (e.g., sentence lengths)\n",
    "print(f\"Number of Categorical Features: {num_categorical}, Number of Numerical Features: {num_numerical}\")"
   ]
  },
  {
   "cell_type": "code",
   "execution_count": 10,
   "metadata": {},
   "outputs": [
    {
     "name": "stdout",
     "output_type": "stream",
     "text": [
      "Summary Statistics of Numerical Features:\n",
      "       source_length  target_length   length_diff\n",
      "count   3.528196e+06   3.528196e+06  3.528196e+06\n",
      "mean    1.336958e+02   1.497498e+02 -1.605400e+01\n",
      "std     9.485931e+01   1.070060e+02  2.709477e+01\n",
      "min     1.000000e+00   1.000000e+00 -7.200000e+02\n",
      "25%     6.100000e+01   6.800000e+01 -2.900000e+01\n",
      "50%     1.190000e+02   1.330000e+02 -1.100000e+01\n",
      "75%     1.840000e+02   2.070000e+02 -1.000000e+00\n",
      "max     5.246000e+03   4.774000e+03  1.729000e+03\n",
      "Variety Analysis - Unique Values in Categorical Features:\n",
      "Source Language    3270641\n",
      "Target Language    3336261\n",
      "dtype: int64\n"
     ]
    }
   ],
   "source": [
    "# Check the summary statistics of numerical columns (e.g., sentence lengths, length differences)\n",
    "summary_statistics = df.describe()\n",
    "print(\"Summary Statistics of Numerical Features:\")\n",
    "print(summary_statistics)\n",
    "\n",
    "# Check the unique values in categorical columns (source and target sentences)\n",
    "unique_values = df.select_dtypes(include=['object']).nunique()\n",
    "print(\"Variety Analysis - Unique Values in Categorical Features:\")\n",
    "print(unique_values)"
   ]
  },
  {
   "cell_type": "code",
   "execution_count": 11,
   "metadata": {},
   "outputs": [
    {
     "name": "stdout",
     "output_type": "stream",
     "text": [
      "Veracity Analysis - Missing Values in Each Feature:\n",
      "Source Language    0\n",
      "Target Language    0\n",
      "source_length      0\n",
      "target_length      0\n",
      "length_diff        0\n",
      "dtype: int64\n",
      "Number of Duplicated Rows: 27438\n"
     ]
    }
   ],
   "source": [
    "# Check for missing values in the dataset\n",
    "missing_values = df.isnull().sum()\n",
    "print(\"Veracity Analysis - Missing Values in Each Feature:\")\n",
    "print(missing_values)\n",
    "\n",
    "# Check for duplicated rows\n",
    "num_duplicates = df.duplicated().sum()\n",
    "print(f\"Number of Duplicated Rows: {num_duplicates}\")"
   ]
  },
  {
   "cell_type": "code",
   "execution_count": null,
   "metadata": {},
   "outputs": [],
   "source": []
  }
 ],
 "metadata": {
  "kernelspec": {
   "display_name": "Python 3",
   "language": "python",
   "name": "python3"
  },
  "language_info": {
   "codemirror_mode": {
    "name": "ipython",
    "version": 3
   },
   "file_extension": ".py",
   "mimetype": "text/x-python",
   "name": "python",
   "nbconvert_exporter": "python",
   "pygments_lexer": "ipython3",
   "version": "3.11.5"
  }
 },
 "nbformat": 4,
 "nbformat_minor": 2
}
