{
 "cells": [
  {
   "cell_type": "code",
   "id": "initial_id",
   "metadata": {
    "collapsed": true,
    "ExecuteTime": {
     "end_time": "2024-10-10T16:23:58.180074Z",
     "start_time": "2024-10-10T16:23:57.948284Z"
    }
   },
   "source": [
    "import pandas as pd\n",
    "\n",
    "# Load the CSV file\n",
    "csv_file = \"animals.csv\"\n",
    "df = pd.read_csv(csv_file)\n",
    "\n",
    "# Display the header of the CSV file\n",
    "print(\"Header:\", df.columns.tolist())\n",
    "\n",
    "# Display the first 5 rows of the CSV file\n",
    "print(\"First 5 rows:\\n\", df.head())\n"
   ],
   "outputs": [
    {
     "name": "stdout",
     "output_type": "stream",
     "text": [
      "Header: ['animal_type', 'name', 'age', 'color', 'months_in_shelter', 'behavior', 'health', 'vaccinated', 'target_audience']\n",
      "First 5 rows:\n",
      "   animal_type   name  age  color  months_in_shelter             behavior  \\\n",
      "0         dog  Bella    3  black                 12  friendly, energetic   \n",
      "1         cat   Milo    2  white                  6    shy, affectionate   \n",
      "2         dog    Max    5  brown                 24    protective, loyal   \n",
      "3         cat   Luna    1   gray                  3     playful, curious   \n",
      "4         dog  Rocky    4  black                  8  energetic, obedient   \n",
      "\n",
      "      health  vaccinated     target_audience  \n",
      "0  excellent        True            families  \n",
      "1       good        True             singles  \n",
      "2  excellent       False             couples  \n",
      "3       good        True            families  \n",
      "4        bad       False  active individuals  \n"
     ]
    }
   ],
   "execution_count": 1
  },
  {
   "metadata": {
    "ExecuteTime": {
     "end_time": "2024-10-10T16:28:06.722170Z",
     "start_time": "2024-10-10T16:28:06.718806Z"
    }
   },
   "cell_type": "code",
   "source": [
    "# Check volume by displaying the number of rows and columns\n",
    "num_rows, num_columns = df.shape\n",
    "print(f\"Volume of Data - Number of Records: {num_rows}, Number of Features: {num_columns}\")\n"
   ],
   "id": "5d7bd14332120811",
   "outputs": [
    {
     "name": "stdout",
     "output_type": "stream",
     "text": [
      "Volume of Data - Number of Records: 200, Number of Features: 9\n"
     ]
    }
   ],
   "execution_count": 2
  },
  {
   "metadata": {
    "ExecuteTime": {
     "end_time": "2024-10-10T16:28:51.270951Z",
     "start_time": "2024-10-10T16:28:51.268088Z"
    }
   },
   "cell_type": "code",
   "source": [
    "# If the dataset has a timestamp column, e.g., 'timestamp'\n",
    "if 'timestamp' in df.columns:\n",
    "    df['timestamp'] = pd.to_datetime(df['timestamp'])\n",
    "    df = df.sort_values('timestamp')\n",
    "    \n",
    "    # Calculate velocity by finding the difference between timestamps\n",
    "    df['time_diff'] = df['timestamp'].diff()\n",
    "    avg_velocity = df['time_diff'].mean()\n",
    "    print(f\"Average time interval between records: {avg_velocity}\")\n",
    "else:\n",
    "    print(\"No timestamp column found in the dataset for velocity analysis.\")\n"
   ],
   "id": "de2ef72113772976",
   "outputs": [
    {
     "name": "stdout",
     "output_type": "stream",
     "text": [
      "No timestamp column found in the dataset for velocity analysis.\n"
     ]
    }
   ],
   "execution_count": 3
  },
  {
   "metadata": {
    "ExecuteTime": {
     "end_time": "2024-10-10T16:29:12.170763Z",
     "start_time": "2024-10-10T16:29:12.167736Z"
    }
   },
   "cell_type": "code",
   "source": [
    "# Check the data types of each column to analyze variety\n",
    "print(\"Variety of Data - Data Types of Features:\")\n",
    "print(df.dtypes)\n",
    "\n",
    "# Optionally, you can also count categorical and numerical columns\n",
    "num_categorical = df.select_dtypes(include=['object']).shape[1]\n",
    "num_numerical = df.select_dtypes(include=['int64', 'float64']).shape[1]\n",
    "print(f\"Number of Categorical Features: {num_categorical}, Number of Numerical Features: {num_numerical}\")\n"
   ],
   "id": "b3a632623c909f4e",
   "outputs": [
    {
     "name": "stdout",
     "output_type": "stream",
     "text": [
      "Variety of Data - Data Types of Features:\n",
      "animal_type          object\n",
      "name                 object\n",
      "age                   int64\n",
      "color                object\n",
      "months_in_shelter     int64\n",
      "behavior             object\n",
      "health               object\n",
      "vaccinated             bool\n",
      "target_audience      object\n",
      "dtype: object\n",
      "Number of Categorical Features: 6, Number of Numerical Features: 2\n"
     ]
    }
   ],
   "execution_count": 5
  },
  {
   "metadata": {
    "ExecuteTime": {
     "end_time": "2024-10-10T16:30:21.620951Z",
     "start_time": "2024-10-10T16:30:21.610427Z"
    }
   },
   "cell_type": "code",
   "source": [
    "# Check the summary statistics of numerical columns\n",
    "summary_statistics = df.describe()\n",
    "print(\"Velocity Analysis - Summary Statistics of Numerical Features:\")\n",
    "print(summary_statistics)\n",
    "\n",
    "# Optionally, you can also check the unique values in categorical columns\n",
    "unique_values = df.select_dtypes(include=['object']).nunique()\n",
    "print(\"Variety Analysis - Unique Values in Categorical Features:\")\n",
    "print(unique_values)"
   ],
   "id": "d4e885b53fe3ddfa",
   "outputs": [
    {
     "name": "stdout",
     "output_type": "stream",
     "text": [
      "Velocity Analysis - Summary Statistics of Numerical Features:\n",
      "              age  months_in_shelter\n",
      "count  200.000000         200.000000\n",
      "mean     6.610000          25.975000\n",
      "std      4.304713          17.596379\n",
      "min      1.000000           1.000000\n",
      "25%      3.000000           9.000000\n",
      "50%      6.000000          24.000000\n",
      "75%     10.000000          41.000000\n",
      "max     15.000000          60.000000\n",
      "Variety Analysis - Unique Values in Categorical Features:\n",
      "animal_type          2\n",
      "name                46\n",
      "color                4\n",
      "behavior           122\n",
      "health               3\n",
      "target_audience      5\n",
      "dtype: int64\n"
     ]
    }
   ],
   "execution_count": 7
  },
  {
   "metadata": {
    "ExecuteTime": {
     "end_time": "2024-10-10T16:30:31.003996Z",
     "start_time": "2024-10-10T16:30:30.998773Z"
    }
   },
   "cell_type": "code",
   "source": [
    "# Check for missing values\n",
    "missing_values = df.isnull().sum()\n",
    "print(\"Veracity Analysis - Missing Values in Each Feature:\")\n",
    "print(missing_values)\n",
    "\n",
    "# Optionally, you can check for duplicated rows\n",
    "num_duplicates = df.duplicated().sum()\n",
    "print(f\"Number of Duplicated Rows: {num_duplicates}\")\n"
   ],
   "id": "b4e5dddf306f9e5",
   "outputs": [
    {
     "name": "stdout",
     "output_type": "stream",
     "text": [
      "Veracity Analysis - Missing Values in Each Feature:\n",
      "animal_type          0\n",
      "name                 0\n",
      "age                  0\n",
      "color                0\n",
      "months_in_shelter    0\n",
      "behavior             0\n",
      "health               0\n",
      "vaccinated           0\n",
      "target_audience      0\n",
      "dtype: int64\n",
      "Number of Duplicated Rows: 0\n"
     ]
    }
   ],
   "execution_count": 8
  },
  {
   "metadata": {},
   "cell_type": "code",
   "outputs": [],
   "execution_count": null,
   "source": "",
   "id": "3938d4cd4ed7284f"
  }
 ],
 "metadata": {
  "kernelspec": {
   "display_name": "Python 3",
   "language": "python",
   "name": "python3"
  },
  "language_info": {
   "codemirror_mode": {
    "name": "ipython",
    "version": 2
   },
   "file_extension": ".py",
   "mimetype": "text/x-python",
   "name": "python",
   "nbconvert_exporter": "python",
   "pygments_lexer": "ipython2",
   "version": "2.7.6"
  }
 },
 "nbformat": 4,
 "nbformat_minor": 5
}
