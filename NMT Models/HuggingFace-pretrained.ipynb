{
 "cells": [
  {
   "cell_type": "code",
   "execution_count": 1,
   "id": "ad4889ef-6ab0-4587-b895-81e1f0aef479",
   "metadata": {},
   "outputs": [
    {
     "name": "stdout",
     "output_type": "stream",
     "text": [
      "Requirement already satisfied: transformers in c:\\users\\simeon\\.conda\\envs\\p3_10_13\\lib\\site-packages (4.45.2)\n",
      "Requirement already satisfied: filelock in c:\\users\\simeon\\.conda\\envs\\p3_10_13\\lib\\site-packages (from transformers) (3.16.1)\n",
      "Requirement already satisfied: huggingface-hub<1.0,>=0.23.2 in c:\\users\\simeon\\.conda\\envs\\p3_10_13\\lib\\site-packages (from transformers) (0.25.2)\n",
      "Requirement already satisfied: numpy>=1.17 in c:\\users\\simeon\\.conda\\envs\\p3_10_13\\lib\\site-packages (from transformers) (1.26.4)\n",
      "Requirement already satisfied: packaging>=20.0 in c:\\users\\simeon\\.conda\\envs\\p3_10_13\\lib\\site-packages (from transformers) (24.1)\n",
      "Requirement already satisfied: pyyaml>=5.1 in c:\\users\\simeon\\.conda\\envs\\p3_10_13\\lib\\site-packages (from transformers) (6.0.1)\n",
      "Requirement already satisfied: regex!=2019.12.17 in c:\\users\\simeon\\.conda\\envs\\p3_10_13\\lib\\site-packages (from transformers) (2024.9.11)\n",
      "Requirement already satisfied: requests in c:\\users\\simeon\\.conda\\envs\\p3_10_13\\lib\\site-packages (from transformers) (2.32.3)\n",
      "Requirement already satisfied: safetensors>=0.4.1 in c:\\users\\simeon\\.conda\\envs\\p3_10_13\\lib\\site-packages (from transformers) (0.4.5)\n",
      "Requirement already satisfied: tokenizers<0.21,>=0.20 in c:\\users\\simeon\\.conda\\envs\\p3_10_13\\lib\\site-packages (from transformers) (0.20.1)\n",
      "Requirement already satisfied: tqdm>=4.27 in c:\\users\\simeon\\.conda\\envs\\p3_10_13\\lib\\site-packages (from transformers) (4.66.5)\n",
      "Requirement already satisfied: fsspec>=2023.5.0 in c:\\users\\simeon\\.conda\\envs\\p3_10_13\\lib\\site-packages (from huggingface-hub<1.0,>=0.23.2->transformers) (2024.6.1)\n",
      "Requirement already satisfied: typing-extensions>=3.7.4.3 in c:\\users\\simeon\\.conda\\envs\\p3_10_13\\lib\\site-packages (from huggingface-hub<1.0,>=0.23.2->transformers) (4.11.0)\n",
      "Requirement already satisfied: colorama in c:\\users\\simeon\\.conda\\envs\\p3_10_13\\lib\\site-packages (from tqdm>=4.27->transformers) (0.4.6)\n",
      "Requirement already satisfied: charset-normalizer<4,>=2 in c:\\users\\simeon\\.conda\\envs\\p3_10_13\\lib\\site-packages (from requests->transformers) (3.3.2)\n",
      "Requirement already satisfied: idna<4,>=2.5 in c:\\users\\simeon\\.conda\\envs\\p3_10_13\\lib\\site-packages (from requests->transformers) (3.7)\n",
      "Requirement already satisfied: urllib3<3,>=1.21.1 in c:\\users\\simeon\\.conda\\envs\\p3_10_13\\lib\\site-packages (from requests->transformers) (2.2.3)\n",
      "Requirement already satisfied: certifi>=2017.4.17 in c:\\users\\simeon\\.conda\\envs\\p3_10_13\\lib\\site-packages (from requests->transformers) (2024.8.30)\n"
     ]
    }
   ],
   "source": [
    "!pip install transformers"
   ]
  },
  {
   "cell_type": "code",
   "execution_count": 2,
   "id": "b15f78f8-b160-4fd8-b25f-6994a885b5dd",
   "metadata": {},
   "outputs": [
    {
     "name": "stderr",
     "output_type": "stream",
     "text": [
      "C:\\Users\\Simeon\\.conda\\envs\\p3_10_13\\lib\\site-packages\\tqdm\\auto.py:21: TqdmWarning: IProgress not found. Please update jupyter and ipywidgets. See https://ipywidgets.readthedocs.io/en/stable/user_install.html\n",
      "  from .autonotebook import tqdm as notebook_tqdm\n"
     ]
    }
   ],
   "source": [
    "import torch\n",
    "from transformers import MarianMTModel, MarianTokenizer"
   ]
  },
  {
   "cell_type": "code",
   "execution_count": 6,
   "id": "ef841e85-566d-413d-8149-8cd699477bdb",
   "metadata": {},
   "outputs": [],
   "source": [
    "model = MarianMTModel.from_pretrained('Helsinki-NLP/opus-mt-en-nl')\n",
    "tokenizer = MarianTokenizer.from_pretrained('Helsinki-NLP/opus-mt-en-nl')"
   ]
  },
  {
   "cell_type": "code",
   "execution_count": null,
   "id": "6c6a1442-c3b4-4e33-bcb6-a7987e36919d",
   "metadata": {},
   "outputs": [],
   "source": [
    "!pip install sacremoses"
   ]
  },
  {
   "cell_type": "code",
   "execution_count": 7,
   "id": "c505f9c3-df09-40c0-a1b1-325a3ba69cff",
   "metadata": {},
   "outputs": [],
   "source": [
    "input_text = \"Meet Bella, a sweet 15-year-old bulldog with a gentle soul. She may be older, but her heart is full of love and loyalty. Bella has arthritis, so she moves a bit slower, but she enjoys cozy cuddles and short strolls. She’s looking for a calm, caring home to enjoy her golden years.\"\n",
    "input_ids = tokenizer.encode(input_text, return_tensors='pt')"
   ]
  },
  {
   "cell_type": "code",
   "execution_count": 8,
   "id": "c23665a2-ac36-40a4-b3e7-f09771d10943",
   "metadata": {},
   "outputs": [],
   "source": [
    "output = model.generate(input_ids=input_ids, max_length=100)"
   ]
  },
  {
   "cell_type": "code",
   "execution_count": 9,
   "id": "c5f477b4-0e54-4f0a-98a5-74d0afd050a0",
   "metadata": {},
   "outputs": [],
   "source": [
    "translated_text = tokenizer.decode(output[0], skip_special_tokens=True)"
   ]
  },
  {
   "cell_type": "code",
   "execution_count": 10,
   "id": "3714a6d0-fd81-499b-b889-3e4c00f03801",
   "metadata": {},
   "outputs": [
    {
     "name": "stdout",
     "output_type": "stream",
     "text": [
      "Ontmoet Bella, een lieve 15-jarige bulldog met een zachte ziel. Ze mag dan ouder zijn, maar haar hart is vol liefde en loyaliteit. Bella heeft artritis, dus ze beweegt een beetje langzamer, maar ze geniet van gezellige knuffels en korte wandelingen. Ze zoekt een rustige, zorgzame thuis om te genieten van haar gouden jaren.\n"
     ]
    }
   ],
   "source": [
    "print(translated_text)"
   ]
  },
  {
   "cell_type": "code",
   "execution_count": null,
   "id": "4f7c9353-2a69-4750-ba3a-d4731373c9d1",
   "metadata": {},
   "outputs": [],
   "source": []
  }
 ],
 "metadata": {
  "kernelspec": {
   "display_name": "Python 3 (ipykernel)",
   "language": "python",
   "name": "python3"
  },
  "language_info": {
   "codemirror_mode": {
    "name": "ipython",
    "version": 3
   },
   "file_extension": ".py",
   "mimetype": "text/x-python",
   "name": "python",
   "nbconvert_exporter": "python",
   "pygments_lexer": "ipython3",
   "version": "3.11.4"
  }
 },
 "nbformat": 4,
 "nbformat_minor": 5
}
